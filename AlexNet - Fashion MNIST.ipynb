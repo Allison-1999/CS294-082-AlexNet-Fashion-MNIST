{
 "cells": [
  {
   "cell_type": "markdown",
   "id": "5ebdd17e",
   "metadata": {},
   "source": [
    "# CS294 - 082 Project: Efficient Compression and Memory Equivalent Capacity Estimate of AlexNet "
   ]
  },
  {
   "cell_type": "markdown",
   "id": "c5432d8d",
   "metadata": {},
   "source": [
    "## Author"
   ]
  },
  {
   "cell_type": "markdown",
   "id": "e5331c27",
   "metadata": {},
   "source": [
    "- Jingjing Wei, Fang Hu, Yonghao Zhu\n",
    "- University of California Berkeley, Berkeley, CA, USA\n",
    "- {jingjingwei, fanghu, yonghao_zhu}@berkeley.edu\n"
   ]
  },
  {
   "cell_type": "markdown",
   "id": "1d62a379",
   "metadata": {},
   "source": [
    "## Introduction"
   ]
  },
  {
   "cell_type": "markdown",
   "id": "d643c15e",
   "metadata": {},
   "source": [
    "- In this project, we customize the AlexNet and analyze its experimental properties. The dataset used in the paper is Fashion MNIST. We chose three classes to train and test our model, including 0 (T-shirt), 1 (Trouser), and 2 (Pullover). Also, we performed random data sampling. \n",
    "- Two experiments were studied in this paper. (1) Accuracy vs. Memory Equivalent Capacity. (2) The proportion of Training Data vs. MEC(Overfitting). \n",
    "- Based on the result, we discuss multiple properties of our machine learner, including memory equivalent capacity, generalization, resilience, etc., by adjusting the number of neurons of fully connected layers. The capacity of the dataset and model are further explored. Moreover, we discuss our experiment's quality assurance, repeatability, and reproducibility. "
   ]
  },
  {
   "cell_type": "code",
   "execution_count": 9,
   "id": "e4e905b8",
   "metadata": {},
   "outputs": [],
   "source": [
    "import os\n",
    "import torch\n",
    "import torchvision\n",
    "import torchvision.datasets as datasets\n",
    "import numpy as np\n",
    "\n",
    "# Maps integer class index to human-readable string describing the class\n",
    "class_map = {\n",
    "0 : \"t-shirt\",\n",
    "1 : \"trouser\",\n",
    "2 : \"pullover\",\n",
    "3 : \"dress\",\n",
    "4 : \"coat\",\n",
    "5 : \"sandal\",\n",
    "6 : \"shirt\",\n",
    "7 : \"sneaker\",\n",
    "8 : \"bag\",\n",
    "9 : \"ankle boot\"\n",
    "}\n",
    "\n",
    "# Downloads the Fashion MNIST dataset using Torchvision\n",
    "raw_dataset = datasets.FashionMNIST(\n",
    "  os.path.join(\"/tmp/fashionmnist\"),\n",
    "  train=True,\n",
    "  download=True)"
   ]
  },
  {
   "cell_type": "code",
   "execution_count": 10,
   "id": "0809bf69",
   "metadata": {},
   "outputs": [
    {
     "data": {
      "image/png": "[encoded data removed]",
      "text/plain": [
       "<PIL.Image.Image image mode=L size=224x224 at 0x24F4D35FA08>"
      ]
     },
     "metadata": {},
     "output_type": "display_data"
    },
    {
     "name": "stdout",
     "output_type": "stream",
     "text": [
      "ankle boot\n"
     ]
    }
   ],
   "source": [
    "img_index = 0\n",
    "tup = raw_dataset[img_index]\n",
    "display(tup[0].resize((224, 224)))\n",
    "print(class_map[tup[1]])"
   ]
  },
  {
   "cell_type": "markdown",
   "id": "26504794",
   "metadata": {},
   "source": [
    "## Define Model"
   ]
  },
  {
   "cell_type": "code",
   "execution_count": 11,
   "id": "3be86f9a",
   "metadata": {},
   "outputs": [],
   "source": [
    "import os\n",
    "import torch\n",
    "import torch.nn as nn\n",
    "import torch.optim as optim\n",
    "import torch.nn.functional as F\n",
    "from torch.utils import data\n",
    "import torchvision.datasets as datasets\n",
    "import torchvision.transforms as transforms\n",
    "from torchvision.models import *\n",
    "from typing import Any\n",
    "from torch.hub import load_state_dict_from_url\n",
    "\n",
    "\n",
    "model_urls = {\n",
    "    \"alexnet\": \"https://download.pytorch.org/models/alexnet-owt-7be5be79.pth\",\n",
    "}\n",
    "\n",
    "\n",
    "class AlexNet(nn.Module):\n",
    "    def __init__(self, num_classes: int = 1000, dropout: float = 0.5, fc_parameter: int = 4096) -> None:\n",
    "        super().__init__()\n",
    "        _log_api_usage_once(self)\n",
    "        self.features = nn.Sequential(\n",
    "            nn.Conv2d(3, 64, kernel_size=11, stride=4, padding=2),\n",
    "            nn.ReLU(inplace=True),\n",
    "            nn.MaxPool2d(kernel_size=3, stride=2),\n",
    "            nn.Conv2d(64, 192, kernel_size=5, padding=2),\n",
    "            nn.ReLU(inplace=True),\n",
    "            nn.MaxPool2d(kernel_size=3, stride=2),\n",
    "#             nn.Conv2d(192, 384, kernel_size=3, padding=1),\n",
    "#             nn.ReLU(inplace=True),\n",
    "#             nn.Conv2d(384, 256, kernel_size=3, padding=1),\n",
    "#             nn.ReLU(inplace=True),\n",
    "#             nn.Conv2d(64, 256, kernel_size=3, padding=1),\n",
    "#             nn.ReLU(inplace=True),\n",
    "#             nn.MaxPool2d(kernel_size=3, stride=2),\n",
    "        )\n",
    "        self.avgpool = nn.AdaptiveAvgPool2d((13, 13))\n",
    "        \n",
    "        # MEC = (192 * 13 * 13 + 1) * fc_parameter + fc_parameter + fc_parameter = 32451 * fc_parameter\n",
    "        self.classifier = nn.Sequential(\n",
    "#             nn.Dropout(p=dropout),\n",
    "            nn.Linear(192 * 13 * 13, fc_parameter),\n",
    "            nn.ReLU(inplace=True),\n",
    "            nn.Linear(fc_parameter, fc_parameter),\n",
    "            nn.ReLU(inplace=True),\n",
    "#             nn.Dropout(p=dropout),\n",
    "            nn.Linear(fc_parameter, fc_parameter), \n",
    "            nn.ReLU(inplace=True),\n",
    "            nn.Linear(fc_parameter, num_classes),\n",
    "        )\n",
    "\n",
    "    def forward(self, x: torch.Tensor) -> torch.Tensor:\n",
    "        x = self.features(x)\n",
    "        x = self.avgpool(x)\n",
    "        x = torch.flatten(x, 1)\n",
    "        x = self.classifier(x)\n",
    "        return x\n",
    "\n",
    "\n",
    "def alexnet(pretrained: bool = False, progress: bool = True, **kwargs: Any) -> AlexNet:\n",
    "    r\"\"\"AlexNet model architecture from the\n",
    "    `\"One weird trick...\" <https://arxiv.org/abs/1404.5997>`_ paper.\n",
    "    The required minimum input size of the model is 63x63.\n",
    "    Args:\n",
    "        pretrained (bool): If True, returns a model pre-trained on ImageNet\n",
    "        progress (bool): If True, displays a progress bar of the download to stderr\n",
    "    \"\"\"\n",
    "    model = AlexNet(**kwargs)\n",
    "    if pretrained:\n",
    "        state_dict = load_state_dict_from_url(model_urls[\"alexnet\"], progress=progress)\n",
    "        model.load_state_dict(state_dict)\n",
    "    return model\n",
    "\n",
    "def _log_api_usage_once(obj: str) -> None:  # type: ignore\n",
    "    if torch.jit.is_scripting() or torch.jit.is_tracing():\n",
    "        return\n",
    "    # NOTE: obj can be an object as well, but mocking it here to be\n",
    "    # only a string to appease torchscript\n",
    "    if isinstance(obj, str):\n",
    "        torch._C._log_api_usage_once(obj)\n",
    "    else:\n",
    "        torch._C._log_api_usage_once(f\"{obj.__module__}.{obj.__class__.__name__}\")"
   ]
  },
  {
   "cell_type": "code",
   "execution_count": 83,
   "id": "19e9aedc",
   "metadata": {},
   "outputs": [],
   "source": [
    "def train_model(net,train_loader,num_epochs):\n",
    "    # Note: this will take 5-10 minutes to run.\n",
    "    #num_epochs = 10\n",
    "    loss_fn = torch.nn.CrossEntropyLoss()#define loss function\n",
    "    optimizer = torch.optim.Adam(net.parameters(),lr=1e-5)#define optimizer\n",
    "    \n",
    "    # Ensures network is in train mode\n",
    "    net.train()\n",
    "\n",
    "    start_time = time.time()\n",
    "    for epoch in range(num_epochs):\n",
    "        for data, targets in iter(train_loader):\n",
    "            # Sends data and targets to device\n",
    "            data = data.to(device)\n",
    "            targets = targets.to(device)\n",
    "\n",
    "            # Acquires the network's best guesses at each class\n",
    "            results = net(data)\n",
    "\n",
    "            # Computes loss\n",
    "            loss = loss_fn(results, targets)\n",
    "\n",
    "            # Updates model\n",
    "            optimizer.zero_grad()\n",
    "            loss.backward()\n",
    "            optimizer.step()\n",
    "        print(\"#\" * 10 + \" \" + \"epoch\" + str(epoch + 1) + \" \" + \"#\" * 10)\n",
    "        print(\"For train dataset:\")\n",
    "        eval_network(net, train_loader)\n",
    "        print(\"For test dataset:\")\n",
    "        eval_network(net, test_loader)\n",
    "    \n",
    "    elapsed_time = time.time() - start_time\n",
    "    print (\"Spent \", elapsed_time, \" seconds training for \", num_epochs, \" epoch(s) on a single core.\")"
   ]
  },
  {
   "cell_type": "code",
   "execution_count": 84,
   "id": "e79cd379",
   "metadata": {},
   "outputs": [],
   "source": [
    "import time\n",
    "\n",
    "# Runs the given net on the batches provided by the test_loader\n",
    "# Records the number of correct predictions (guesses) and \n",
    "# prints the percentage of correct guesses on the dataset, plus a \n",
    "# sample batch.\n",
    "def eval_network(model, test_loader):\n",
    "    start_time = time.time()\n",
    "    num_correct = 0\n",
    "    total_guesses = 0\n",
    "\n",
    "    # Sets eval and no grad context for evaluation\n",
    "    model.eval()\n",
    "    with torch.no_grad():\n",
    "        for data, targets in iter(test_loader):\n",
    "            # Sends data and targets to device\n",
    "            data = data.to(device)\n",
    "            targets = targets.to(device)\n",
    "\n",
    "            # Acquires the network's best guesses at each class\n",
    "            results = model(data)\n",
    "            best_guesses = torch.argmax(results, 1)\n",
    "\n",
    "            # Updates number of correct and total guesses\n",
    "            num_correct += torch.eq(targets, best_guesses).sum().item()\n",
    "            total_guesses += batch_size\n",
    "\n",
    "    # Prints output\n",
    "    elapsed_time = time.time() - start_time\n",
    "    print(\"Correctly guessed \", num_correct/total_guesses*100, \"%\")\n",
    "#     print(\"Evaluated in \", elapsed_time, \" seconds\")\n",
    "    return num_correct/total_guesses*100"
   ]
  },
  {
   "cell_type": "markdown",
   "id": "6179977a",
   "metadata": {},
   "source": [
    "## Load and Define Dataset"
   ]
  },
  {
   "cell_type": "code",
   "execution_count": 72,
   "id": "29903973",
   "metadata": {},
   "outputs": [],
   "source": [
    "import torchvision.transforms as transforms\n",
    "\n",
    "normalize = transforms.Normalize(mean=[0.485, 0.456, 0.406],\n",
    "                                 std=[0.229, 0.224, 0.225])\n",
    "to_rgb = transforms.Lambda(lambda image: image.convert('RGB'))\n",
    "resize = transforms.Resize((224, 224))\n",
    "my_transform = transforms.Compose([resize, to_rgb, transforms.ToTensor(), normalize])"
   ]
  },
  {
   "cell_type": "code",
   "execution_count": 73,
   "id": "e2b90a5a",
   "metadata": {},
   "outputs": [],
   "source": [
    "device = torch.device(\"cuda\" if torch.cuda.is_available() else \"cpu\")"
   ]
  },
  {
   "cell_type": "code",
   "execution_count": 74,
   "id": "6bb3a0bb",
   "metadata": {},
   "outputs": [],
   "source": [
    "train_dataset = datasets.FashionMNIST(\n",
    "  os.path.join(\"/tmp/fashionmnist\"),\n",
    "  train=True,\n",
    "  download=True,\n",
    "  transform=my_transform)\n",
    "\n",
    "test_dataset = datasets.FashionMNIST(\n",
    "  os.path.join(\"/tmp/fashionmnist\"),\n",
    "  train=False,\n",
    "  download=True,\n",
    "  transform=my_transform)"
   ]
  },
  {
   "cell_type": "code",
   "execution_count": 75,
   "id": "70f0d5ff",
   "metadata": {},
   "outputs": [],
   "source": [
    "def reduce(raw_dataset):\n",
    "    # reduce the dataset to only contains class 0 and 1\n",
    "    # total count: 12000\n",
    "    \n",
    "    class_list = [1, 2]\n",
    "    idx = (raw_dataset.targets==0)\n",
    "    for c in class_list:\n",
    "        idx = idx | (raw_dataset.targets==c)\n",
    "\n",
    "    # reduce data to make the model training more efficient\n",
    "    np.random.seed(88)\n",
    "    idx = idx & torch.from_numpy(np.random.choice([True, False], size=len(idx), p=[0.05, 0.95]))\n",
    "#     for i in range(len(idx)):\n",
    "#         if i % 2 == 0 or i % 3 == 0 or i % 5 == 0 or i % 7 == 0 or i % 8 == 0:\n",
    "#             idx[i] = False\n",
    "    raw_dataset.targets = raw_dataset.targets[idx]\n",
    "    raw_dataset.data = raw_dataset.data[idx]"
   ]
  },
  {
   "cell_type": "code",
   "execution_count": 76,
   "id": "30f56c2e",
   "metadata": {},
   "outputs": [],
   "source": [
    "reduce(train_dataset)\n",
    "reduce(test_dataset)"
   ]
  },
  {
   "cell_type": "code",
   "execution_count": 77,
   "id": "0c27c943",
   "metadata": {},
   "outputs": [
    {
     "data": {
      "text/plain": [
       "Dataset FashionMNIST\n",
       "    Number of datapoints: 924\n",
       "    Root location: /tmp/fashionmnist\n",
       "    Split: Train\n",
       "    StandardTransform\n",
       "Transform: Compose(\n",
       "               Resize(size=(224, 224), interpolation=PIL.Image.BILINEAR)\n",
       "               Lambda()\n",
       "               ToTensor()\n",
       "               Normalize(mean=[0.485, 0.456, 0.406], std=[0.229, 0.224, 0.225])\n",
       "           )"
      ]
     },
     "execution_count": 77,
     "metadata": {},
     "output_type": "execute_result"
    }
   ],
   "source": [
    "train_dataset"
   ]
  },
  {
   "cell_type": "code",
   "execution_count": 78,
   "id": "93cc42e6",
   "metadata": {},
   "outputs": [
    {
     "data": {
      "text/plain": [
       "Dataset FashionMNIST\n",
       "    Number of datapoints: 155\n",
       "    Root location: /tmp/fashionmnist\n",
       "    Split: Test\n",
       "    StandardTransform\n",
       "Transform: Compose(\n",
       "               Resize(size=(224, 224), interpolation=PIL.Image.BILINEAR)\n",
       "               Lambda()\n",
       "               ToTensor()\n",
       "               Normalize(mean=[0.485, 0.456, 0.406], std=[0.229, 0.224, 0.225])\n",
       "           )"
      ]
     },
     "execution_count": 78,
     "metadata": {},
     "output_type": "execute_result"
    }
   ],
   "source": [
    "test_dataset"
   ]
  },
  {
   "cell_type": "code",
   "execution_count": 79,
   "id": "1ff4a0a8",
   "metadata": {},
   "outputs": [],
   "source": [
    "train_sampler = torch.utils.data.RandomSampler(train_dataset)\n",
    "test_sampler = torch.utils.data.RandomSampler(test_dataset)"
   ]
  },
  {
   "cell_type": "code",
   "execution_count": 80,
   "id": "b158e057",
   "metadata": {},
   "outputs": [],
   "source": [
    "batch_size = 20\n",
    "\n",
    "train_loader = torch.utils.data.DataLoader(\n",
    "    train_dataset,\n",
    "    batch_size=batch_size,\n",
    "    sampler=train_sampler)\n",
    "\n",
    "test_loader = torch.utils.data.DataLoader(\n",
    "    test_dataset,\n",
    "    batch_size=batch_size,\n",
    "    sampler=test_sampler)"
   ]
  },
  {
   "cell_type": "code",
   "execution_count": 81,
   "id": "c911e899",
   "metadata": {},
   "outputs": [
    {
     "name": "stdout",
     "output_type": "stream",
     "text": [
      "###### Train data ######\n",
      "number of 0 class: 306\n",
      "number of 1 class: 319\n",
      "number of 2 class: 299\n",
      "###### Test data ######\n",
      "number of 0 class: 57\n",
      "number of 1 class: 49\n",
      "number of 2 class: 49\n"
     ]
    }
   ],
   "source": [
    "def label_stat(data_loader):\n",
    "    res = []\n",
    "    number_zero = 0\n",
    "    number_one = 0\n",
    "    number_two = 0\n",
    "    for data, targets in iter(data_loader):\n",
    "        number_zero = number_zero + list(targets).count(0)\n",
    "        number_one = number_one + list(targets).count(1)\n",
    "        number_two = number_two + list(targets).count(2)\n",
    "    print(\"number of 0 class: \" + str(number_zero))\n",
    "    print(\"number of 1 class: \" + str(number_one))\n",
    "    print(\"number of 2 class: \" + str(number_two))\n",
    "    return [number_zero, number_one, number_two]\n",
    "    \n",
    "print(\"###### Train data ######\")\n",
    "train_data_stat = label_stat(train_loader)\n",
    "\n",
    "print(\"###### Test data ######\")\n",
    "test_data_stat = label_stat(test_loader)"
   ]
  },
  {
   "cell_type": "code",
   "execution_count": 85,
   "id": "2de312c8",
   "metadata": {},
   "outputs": [
    {
     "data": {
      "image/png": "[encoded data removed]",
      "text/plain": [
       "<Figure size 864x576 with 1 Axes>"
      ]
     },
     "metadata": {
      "needs_background": "light"
     },
     "output_type": "display_data"
    }
   ],
   "source": [
    "import matplotlib.pyplot as plt\n",
    "\n",
    "# set width of bar\n",
    "barWidth = 0.4\n",
    "fig = plt.subplots(figsize =(12, 8))\n",
    " \n",
    "# set height of bar\n",
    "Training = train_data_stat\n",
    "Validation = test_data_stat\n",
    " \n",
    "# Set position of bar on X axis\n",
    "br1 = np.arange(len(IT))\n",
    "br2 = [x + barWidth for x in br1]\n",
    " \n",
    "# Make the plot\n",
    "plt.bar(br1, IT, width = barWidth,\n",
    "        edgecolor ='grey', label ='Training Dataset')\n",
    "plt.bar(br2, ECE, width = barWidth,\n",
    "        edgecolor ='grey', label ='Validation Dataset')\n",
    " \n",
    "# Adding Xticks\n",
    "plt.xlabel('Label', fontweight ='bold', fontsize = 15)\n",
    "plt.ylabel('Number', fontweight ='bold', fontsize = 15)\n",
    "plt.xticks([r + barWidth for r in range(len(IT))],\n",
    "        ['0', '1', '2'])\n",
    "plt.title(\"Number of samples in Training Dataset and Validation Dataset\")\n",
    "plt.legend()\n",
    "plt.show()"
   ]
  },
  {
   "cell_type": "markdown",
   "id": "dcbfa627",
   "metadata": {},
   "source": [
    "## 1. Accuracy vs. Memory Equivalent Capacity"
   ]
  },
  {
   "cell_type": "markdown",
   "id": "a0bd5dea",
   "metadata": {},
   "source": [
    "### 3-Class Classification"
   ]
  },
  {
   "cell_type": "code",
   "execution_count": 40,
   "id": "b4f99109",
   "metadata": {},
   "outputs": [
    {
     "name": "stdout",
     "output_type": "stream",
     "text": [
      "########## epoch1 ##########\n",
      "For train dataset:\n",
      "Correctly guessed  90.53191489361701 %\n",
      "For test dataset:\n",
      "Correctly guessed  90.625 %\n",
      "########## epoch2 ##########\n",
      "For train dataset:\n",
      "Correctly guessed  94.57446808510637 %\n",
      "For test dataset:\n",
      "Correctly guessed  92.5 %\n",
      "########## epoch3 ##########\n",
      "For train dataset:\n",
      "Correctly guessed  95.74468085106383 %\n",
      "For test dataset:\n",
      "Correctly guessed  93.125 %\n",
      "########## epoch4 ##########\n",
      "For train dataset:\n",
      "Correctly guessed  95.74468085106383 %\n",
      "For test dataset:\n",
      "Correctly guessed  93.125 %\n",
      "########## epoch5 ##########\n",
      "For train dataset:\n",
      "Correctly guessed  96.17021276595744 %\n",
      "For test dataset:\n",
      "Correctly guessed  90.625 %\n",
      "########## epoch6 ##########\n",
      "For train dataset:\n",
      "Correctly guessed  96.70212765957447 %\n",
      "For test dataset:\n",
      "Correctly guessed  93.75 %\n",
      "########## epoch7 ##########\n",
      "For train dataset:\n",
      "Correctly guessed  95.74468085106383 %\n",
      "For test dataset:\n",
      "Correctly guessed  90.0 %\n",
      "########## epoch8 ##########\n",
      "For train dataset:\n",
      "Correctly guessed  96.91489361702128 %\n",
      "For test dataset:\n",
      "Correctly guessed  94.375 %\n",
      "########## epoch9 ##########\n",
      "For train dataset:\n",
      "Correctly guessed  97.3404255319149 %\n",
      "For test dataset:\n",
      "Correctly guessed  93.125 %\n",
      "########## epoch10 ##########\n",
      "For train dataset:\n",
      "Correctly guessed  97.23404255319149 %\n",
      "For test dataset:\n",
      "Correctly guessed  93.75 %\n",
      "########## epoch11 ##########\n",
      "For train dataset:\n",
      "Correctly guessed  97.87234042553192 %\n",
      "For test dataset:\n",
      "Correctly guessed  94.375 %\n",
      "########## epoch12 ##########\n",
      "For train dataset:\n",
      "Correctly guessed  97.76595744680851 %\n",
      "For test dataset:\n",
      "Correctly guessed  94.375 %\n",
      "########## epoch13 ##########\n",
      "For train dataset:\n",
      "Correctly guessed  97.97872340425532 %\n",
      "For test dataset:\n",
      "Correctly guessed  94.375 %\n",
      "Spent  155.44464087486267  seconds training for  13  epoch(s) on a single core.\n",
      "########## Training Accuracy: ##########\n",
      "Correctly guessed  97.97872340425532 %\n",
      "########## Validation Accuracy: ##########\n",
      "Correctly guessed  94.375 %\n"
     ]
    },
    {
     "data": {
      "text/plain": [
       "94.375"
      ]
     },
     "execution_count": 40,
     "metadata": {},
     "output_type": "execute_result"
    }
   ],
   "source": [
    "net = alexnet(num_classes=3, fc_parameter=9216)\n",
    "net = net.to(device)#to GPU\n",
    "\n",
    "train_model(net, train_loader, 13)#9216,9216,4096,2048, 2;15epoch\n",
    "print(\"########## Training Accuracy: ##########\")\n",
    "eval_network(net, train_loader)\n",
    "print(\"########## Validation Accuracy: ##########\")\n",
    "eval_network(net, test_loader)"
   ]
  },
  {
   "cell_type": "code",
   "execution_count": 57,
   "id": "2ace1cee",
   "metadata": {},
   "outputs": [],
   "source": [
    "train_acc_list = [95.53, 96.06, 96.70, 97.65, 97.97, 97.98, 97.97]\n",
    "test_acc_list = [91.8, 93.12, 93.7, 93.7, 94.37, 94.38, 93.75]\n",
    "mec_list = []\n",
    "fc_parameter_list = [512, 1024, 3072, 6144, 8192, 9216, 11264]\n",
    "\n",
    "for fc_parameter in fc_parameter_list:\n",
    "#     net = alexnet(num_classes=3, fc_parameter=fc_parameter)\n",
    "#     net = net.to(device)#to GPU\n",
    "\n",
    "#     train_model(net, train_loader, 10)\n",
    "    \n",
    "    mec = 32451 * fc_parameter\n",
    "    mec_list.append(mec)\n",
    "#     train_acc_list.append(eval_network(net, train_loader))\n",
    "#     test_acc_list.append(eval_network(net, test_loader))"
   ]
  },
  {
   "cell_type": "code",
   "execution_count": 58,
   "id": "a1428087",
   "metadata": {},
   "outputs": [],
   "source": [
    "fc_parameter_list = [512, 1024, 3072, 6144, 8192, 9216, 11264]"
   ]
  },
  {
   "cell_type": "code",
   "execution_count": 59,
   "id": "079e1607",
   "metadata": {},
   "outputs": [],
   "source": [
    "neroun_list = []## number of nerouns"
   ]
  },
  {
   "cell_type": "code",
   "execution_count": 60,
   "id": "1c13fdb7",
   "metadata": {},
   "outputs": [],
   "source": [
    "for fc_parameter in fc_parameter_list:\n",
    "    neroun = 3 * fc_parameter + 3\n",
    "    neroun_list.append(neroun)"
   ]
  },
  {
   "cell_type": "code",
   "execution_count": 61,
   "id": "1bd86468",
   "metadata": {},
   "outputs": [
    {
     "data": {
      "text/plain": [
       "[1539, 3075, 9219, 18435, 24579, 27651, 33795]"
      ]
     },
     "execution_count": 61,
     "metadata": {},
     "output_type": "execute_result"
    }
   ],
   "source": [
    "neroun_list"
   ]
  },
  {
   "cell_type": "code",
   "execution_count": 62,
   "id": "7942fead",
   "metadata": {},
   "outputs": [
    {
     "data": {
      "text/plain": [
       "[16614912, 33229824, 99689472, 199378944, 265838592, 299068416, 365528064]"
      ]
     },
     "execution_count": 62,
     "metadata": {},
     "output_type": "execute_result"
    }
   ],
   "source": [
    "mec_list"
   ]
  },
  {
   "cell_type": "code",
   "execution_count": 63,
   "id": "82e905cc",
   "metadata": {},
   "outputs": [
    {
     "data": {
      "text/plain": [
       "[95.53, 96.06, 96.7, 97.65, 97.97, 97.98, 97.97]"
      ]
     },
     "execution_count": 63,
     "metadata": {},
     "output_type": "execute_result"
    }
   ],
   "source": [
    "train_acc_list"
   ]
  },
  {
   "cell_type": "code",
   "execution_count": 64,
   "id": "3a8e56c9",
   "metadata": {
    "scrolled": true
   },
   "outputs": [
    {
     "data": {
      "image/png": "[encoded data removed]",
      "text/plain": [
       "<Figure size 504x360 with 1 Axes>"
      ]
     },
     "metadata": {
      "needs_background": "light"
     },
     "output_type": "display_data"
    }
   ],
   "source": [
    "import matplotlib.pyplot as plt\n",
    "plt.figure(figsize=(7,5))\n",
    "plt.plot(mec_list, train_acc_list, label = \"Train Accuracy\")\n",
    "plt.plot(mec_list, test_acc_list, label = \"Test Accuracy\")\n",
    "plt.xlabel(\"Memory Equivalent Capacity (bits)\")\n",
    "plt.ylabel(\"Accuracy (%)\")\n",
    "plt.title(\"Accuracy vs. Memory Equivalent Capacity\")\n",
    "plt.ylim(90, 100) \n",
    "plt.legend();"
   ]
  },
  {
   "cell_type": "markdown",
   "id": "a70602a1",
   "metadata": {},
   "source": [
    "## 2. %Training Data vs. MEC(Overfitting)"
   ]
  },
  {
   "cell_type": "markdown",
   "id": "de15c34c",
   "metadata": {},
   "source": [
    "### 10% Training Data"
   ]
  },
  {
   "cell_type": "code",
   "execution_count": 62,
   "id": "03c8727c",
   "metadata": {},
   "outputs": [],
   "source": [
    "indices = torch.randperm(len(train_dataset))[:92]#10% training data"
   ]
  },
  {
   "cell_type": "code",
   "execution_count": 63,
   "id": "75038730",
   "metadata": {},
   "outputs": [],
   "source": [
    "train_dataset_10 = torch.utils.data.Subset(train_dataset, indices)\n",
    "train_sampler_10 = torch.utils.data.RandomSampler(train_dataset_10)"
   ]
  },
  {
   "cell_type": "code",
   "execution_count": 64,
   "id": "546225ad",
   "metadata": {},
   "outputs": [],
   "source": [
    "batch_size = 20\n",
    "\n",
    "train_loader_10 = torch.utils.data.DataLoader(\n",
    "    train_dataset_10,\n",
    "    batch_size=batch_size,\n",
    "    sampler=train_sampler_10)"
   ]
  },
  {
   "cell_type": "code",
   "execution_count": 52,
   "id": "1f414627",
   "metadata": {},
   "outputs": [
    {
     "name": "stdout",
     "output_type": "stream",
     "text": [
      "########## epoch1 ##########\n",
      "For train dataset:\n",
      "Correctly guessed  90.95744680851064 %\n",
      "For test dataset:\n",
      "Correctly guessed  93.125 %\n",
      "########## epoch2 ##########\n",
      "For train dataset:\n",
      "Correctly guessed  94.68085106382979 %\n",
      "For test dataset:\n",
      "Correctly guessed  93.75 %\n",
      "########## epoch3 ##########\n",
      "For train dataset:\n",
      "Correctly guessed  92.23404255319149 %\n",
      "For test dataset:\n",
      "Correctly guessed  90.625 %\n",
      "########## epoch4 ##########\n",
      "For train dataset:\n",
      "Correctly guessed  95.53191489361701 %\n",
      "For test dataset:\n",
      "Correctly guessed  93.125 %\n",
      "########## epoch5 ##########\n",
      "For train dataset:\n",
      "Correctly guessed  95.63829787234043 %\n",
      "For test dataset:\n",
      "Correctly guessed  93.75 %\n",
      "########## epoch6 ##########\n",
      "For train dataset:\n",
      "Correctly guessed  94.04255319148936 %\n",
      "For test dataset:\n",
      "Correctly guessed  90.625 %\n",
      "########## epoch7 ##########\n",
      "For train dataset:\n",
      "Correctly guessed  96.17021276595744 %\n",
      "For test dataset:\n",
      "Correctly guessed  93.75 %\n",
      "########## epoch8 ##########\n",
      "For train dataset:\n",
      "Correctly guessed  96.80851063829788 %\n",
      "For test dataset:\n",
      "Correctly guessed  93.125 %\n",
      "########## epoch9 ##########\n",
      "For train dataset:\n",
      "Correctly guessed  96.59574468085106 %\n",
      "For test dataset:\n",
      "Correctly guessed  93.75 %\n",
      "########## epoch10 ##########\n",
      "For train dataset:\n",
      "Correctly guessed  96.70212765957447 %\n",
      "For test dataset:\n",
      "Correctly guessed  92.5 %\n",
      "########## epoch11 ##########\n",
      "For train dataset:\n",
      "Correctly guessed  96.80851063829788 %\n",
      "For test dataset:\n",
      "Correctly guessed  92.5 %\n",
      "########## epoch12 ##########\n",
      "For train dataset:\n",
      "Correctly guessed  96.80851063829788 %\n",
      "For test dataset:\n",
      "Correctly guessed  93.75 %\n",
      "########## epoch13 ##########\n",
      "For train dataset:\n",
      "Correctly guessed  96.59574468085106 %\n",
      "For test dataset:\n",
      "Correctly guessed  94.375 %\n",
      "########## epoch14 ##########\n",
      "For train dataset:\n",
      "Correctly guessed  97.87234042553192 %\n",
      "For test dataset:\n",
      "Correctly guessed  93.75 %\n",
      "########## epoch15 ##########\n",
      "For train dataset:\n",
      "Correctly guessed  97.44680851063829 %\n",
      "For test dataset:\n",
      "Correctly guessed  93.75 %\n",
      "Spent  63.21618103981018  seconds training for  15  epoch(s) on a single core.\n",
      "########## Training Accuracy: ##########\n",
      "Correctly guessed  97.44680851063829 %\n"
     ]
    },
    {
     "data": {
      "text/plain": [
       "97.44680851063829"
      ]
     },
     "execution_count": 52,
     "metadata": {},
     "output_type": "execute_result"
    }
   ],
   "source": [
    "net = alexnet(num_classes=3, fc_parameter=3072)\n",
    "net = net.to(device)#to GPU\n",
    "\n",
    "train_model(net, train_loader, 15)#9216,9216,4096,2048, 2;15epoch\n",
    "print(\"########## Training Accuracy: ##########\")\n",
    "eval_network(net, train_loader)"
   ]
  },
  {
   "cell_type": "code",
   "execution_count": 47,
   "id": "ae7292d3",
   "metadata": {},
   "outputs": [
    {
     "name": "stdout",
     "output_type": "stream",
     "text": [
      "########## epoch1 ##########\n",
      "For train dataset:\n",
      "Correctly guessed  92.65957446808511 %\n",
      "For test dataset:\n",
      "Correctly guessed  91.25 %\n",
      "########## epoch2 ##########\n",
      "For train dataset:\n",
      "Correctly guessed  92.5531914893617 %\n",
      "For test dataset:\n",
      "Correctly guessed  91.25 %\n",
      "########## epoch3 ##########\n",
      "For train dataset:\n",
      "Correctly guessed  93.61702127659575 %\n",
      "For test dataset:\n",
      "Correctly guessed  92.5 %\n",
      "########## epoch4 ##########\n",
      "For train dataset:\n",
      "Correctly guessed  94.46808510638299 %\n",
      "For test dataset:\n",
      "Correctly guessed  91.875 %\n",
      "########## epoch5 ##########\n",
      "For train dataset:\n",
      "Correctly guessed  94.46808510638299 %\n",
      "For test dataset:\n",
      "Correctly guessed  91.875 %\n",
      "########## epoch6 ##########\n",
      "For train dataset:\n",
      "Correctly guessed  95.74468085106383 %\n",
      "For test dataset:\n",
      "Correctly guessed  93.125 %\n",
      "########## epoch7 ##########\n",
      "For train dataset:\n",
      "Correctly guessed  96.27659574468085 %\n",
      "For test dataset:\n",
      "Correctly guessed  93.125 %\n",
      "########## epoch8 ##########\n",
      "For train dataset:\n",
      "Correctly guessed  96.38297872340425 %\n",
      "For test dataset:\n",
      "Correctly guessed  93.125 %\n",
      "########## epoch9 ##########\n",
      "For train dataset:\n",
      "Correctly guessed  96.38297872340425 %\n",
      "For test dataset:\n",
      "Correctly guessed  92.5 %\n",
      "########## epoch10 ##########\n",
      "For train dataset:\n",
      "Correctly guessed  96.48936170212767 %\n",
      "For test dataset:\n",
      "Correctly guessed  93.125 %\n",
      "########## epoch11 ##########\n",
      "For train dataset:\n",
      "Correctly guessed  95.31914893617022 %\n",
      "For test dataset:\n",
      "Correctly guessed  93.125 %\n",
      "########## epoch12 ##########\n",
      "For train dataset:\n",
      "Correctly guessed  96.38297872340425 %\n",
      "For test dataset:\n",
      "Correctly guessed  93.125 %\n",
      "########## epoch13 ##########\n",
      "For train dataset:\n",
      "Correctly guessed  97.23404255319149 %\n",
      "For test dataset:\n",
      "Correctly guessed  92.5 %\n",
      "########## epoch14 ##########\n",
      "For train dataset:\n",
      "Correctly guessed  96.27659574468085 %\n",
      "For test dataset:\n",
      "Correctly guessed  91.25 %\n",
      "########## epoch15 ##########\n",
      "For train dataset:\n",
      "Correctly guessed  96.91489361702128 %\n",
      "For test dataset:\n",
      "Correctly guessed  93.75 %\n",
      "Spent  48.465453147888184  seconds training for  15  epoch(s) on a single core.\n",
      "########## Training Accuracy: ##########\n",
      "Correctly guessed  96.91489361702128 %\n"
     ]
    },
    {
     "data": {
      "text/plain": [
       "96.91489361702128"
      ]
     },
     "execution_count": 47,
     "metadata": {},
     "output_type": "execute_result"
    }
   ],
   "source": [
    "net = alexnet(num_classes=3, fc_parameter=2048)\n",
    "net = net.to(device)#to GPU\n",
    "\n",
    "train_model(net, train_loader, 15)#9216,9216,4096,2048, 2;15epoch\n",
    "print(\"########## Training Accuracy: ##########\")\n",
    "eval_network(net, train_loader)"
   ]
  },
  {
   "cell_type": "code",
   "execution_count": 65,
   "id": "4583f88f",
   "metadata": {},
   "outputs": [
    {
     "name": "stdout",
     "output_type": "stream",
     "text": [
      "########## epoch1 ##########\n",
      "For train dataset:\n",
      "Correctly guessed  90.95744680851064 %\n",
      "For test dataset:\n",
      "Correctly guessed  89.375 %\n",
      "########## epoch2 ##########\n",
      "For train dataset:\n",
      "Correctly guessed  93.40425531914893 %\n",
      "For test dataset:\n",
      "Correctly guessed  91.25 %\n",
      "########## epoch3 ##########\n",
      "For train dataset:\n",
      "Correctly guessed  95.1063829787234 %\n",
      "For test dataset:\n",
      "Correctly guessed  93.125 %\n",
      "########## epoch4 ##########\n",
      "For train dataset:\n",
      "Correctly guessed  95.0 %\n",
      "For test dataset:\n",
      "Correctly guessed  93.125 %\n",
      "########## epoch5 ##########\n",
      "For train dataset:\n",
      "Correctly guessed  95.31914893617022 %\n",
      "For test dataset:\n",
      "Correctly guessed  90.0 %\n",
      "########## epoch6 ##########\n",
      "For train dataset:\n",
      "Correctly guessed  95.0 %\n",
      "For test dataset:\n",
      "Correctly guessed  92.5 %\n",
      "########## epoch7 ##########\n",
      "For train dataset:\n",
      "Correctly guessed  96.27659574468085 %\n",
      "For test dataset:\n",
      "Correctly guessed  93.125 %\n",
      "########## epoch8 ##########\n",
      "For train dataset:\n",
      "Correctly guessed  95.42553191489361 %\n",
      "For test dataset:\n",
      "Correctly guessed  93.125 %\n",
      "########## epoch9 ##########\n",
      "For train dataset:\n",
      "Correctly guessed  97.12765957446808 %\n",
      "For test dataset:\n",
      "Correctly guessed  93.125 %\n",
      "########## epoch10 ##########\n",
      "For train dataset:\n",
      "Correctly guessed  97.3404255319149 %\n",
      "For test dataset:\n",
      "Correctly guessed  93.125 %\n",
      "########## epoch11 ##########\n",
      "For train dataset:\n",
      "Correctly guessed  97.3404255319149 %\n",
      "For test dataset:\n",
      "Correctly guessed  93.125 %\n",
      "########## epoch12 ##########\n",
      "For train dataset:\n",
      "Correctly guessed  96.91489361702128 %\n",
      "For test dataset:\n",
      "Correctly guessed  91.875 %\n",
      "########## epoch13 ##########\n",
      "For train dataset:\n",
      "Correctly guessed  96.59574468085106 %\n",
      "For test dataset:\n",
      "Correctly guessed  93.75 %\n",
      "########## epoch14 ##########\n",
      "For train dataset:\n",
      "Correctly guessed  97.5531914893617 %\n",
      "For test dataset:\n",
      "Correctly guessed  93.75 %\n",
      "########## epoch15 ##########\n",
      "For train dataset:\n",
      "Correctly guessed  97.87234042553192 %\n",
      "For test dataset:\n",
      "Correctly guessed  93.75 %\n",
      "Spent  54.98176717758179  seconds training for  15  epoch(s) on a single core.\n",
      "########## Training Accuracy: ##########\n",
      "Correctly guessed  97.87234042553192 %\n"
     ]
    },
    {
     "data": {
      "text/plain": [
       "97.87234042553192"
      ]
     },
     "execution_count": 65,
     "metadata": {},
     "output_type": "execute_result"
    }
   ],
   "source": [
    "net = alexnet(num_classes=3, fc_parameter=2560)\n",
    "net = net.to(device)#to GPU\n",
    "\n",
    "train_model(net, train_loader, 15)#9216,9216,4096,2048, 2;15epoch\n",
    "print(\"########## Training Accuracy: ##########\")\n",
    "eval_network(net, train_loader)"
   ]
  },
  {
   "cell_type": "markdown",
   "id": "2f2dade1",
   "metadata": {},
   "source": [
    "### 20% Training Data"
   ]
  },
  {
   "cell_type": "code",
   "execution_count": 39,
   "id": "52ab0c4a",
   "metadata": {},
   "outputs": [],
   "source": [
    "indices = torch.randperm(len(train_dataset))[:185]#10% training data\n",
    "train_dataset_20 = torch.utils.data.Subset(train_dataset, indices)\n",
    "train_sampler_20 = torch.utils.data.RandomSampler(train_dataset_20)"
   ]
  },
  {
   "cell_type": "code",
   "execution_count": 40,
   "id": "dead17e6",
   "metadata": {},
   "outputs": [],
   "source": [
    "batch_size = 20\n",
    "\n",
    "train_loader_20 = torch.utils.data.DataLoader(\n",
    "    train_dataset_20,\n",
    "    batch_size=batch_size,\n",
    "    sampler=train_sampler_20)"
   ]
  },
  {
   "cell_type": "code",
   "execution_count": 41,
   "id": "22fccb4a",
   "metadata": {},
   "outputs": [
    {
     "name": "stdout",
     "output_type": "stream",
     "text": [
      "########## epoch1 ##########\n",
      "For train dataset:\n",
      "Correctly guessed  88.51063829787233 %\n",
      "For test dataset:\n",
      "Correctly guessed  86.25 %\n",
      "########## epoch2 ##########\n",
      "For train dataset:\n",
      "Correctly guessed  93.93617021276596 %\n",
      "For test dataset:\n",
      "Correctly guessed  90.625 %\n",
      "########## epoch3 ##########\n",
      "For train dataset:\n",
      "Correctly guessed  92.76595744680851 %\n",
      "For test dataset:\n",
      "Correctly guessed  92.5 %\n",
      "########## epoch4 ##########\n",
      "For train dataset:\n",
      "Correctly guessed  95.1063829787234 %\n",
      "For test dataset:\n",
      "Correctly guessed  90.625 %\n",
      "########## epoch5 ##########\n",
      "For train dataset:\n",
      "Correctly guessed  95.95744680851064 %\n",
      "For test dataset:\n",
      "Correctly guessed  92.5 %\n",
      "########## epoch6 ##########\n",
      "For train dataset:\n",
      "Correctly guessed  96.38297872340425 %\n",
      "For test dataset:\n",
      "Correctly guessed  93.125 %\n",
      "########## epoch7 ##########\n",
      "For train dataset:\n",
      "Correctly guessed  95.74468085106383 %\n",
      "For test dataset:\n",
      "Correctly guessed  92.5 %\n",
      "########## epoch8 ##########\n",
      "For train dataset:\n",
      "Correctly guessed  97.02127659574468 %\n",
      "For test dataset:\n",
      "Correctly guessed  91.875 %\n",
      "########## epoch9 ##########\n",
      "For train dataset:\n",
      "Correctly guessed  96.27659574468085 %\n",
      "For test dataset:\n",
      "Correctly guessed  92.5 %\n",
      "########## epoch10 ##########\n",
      "For train dataset:\n",
      "Correctly guessed  95.53191489361701 %\n",
      "For test dataset:\n",
      "Correctly guessed  90.625 %\n",
      "########## epoch11 ##########\n",
      "For train dataset:\n",
      "Correctly guessed  97.3404255319149 %\n",
      "For test dataset:\n",
      "Correctly guessed  93.125 %\n",
      "########## epoch12 ##########\n",
      "For train dataset:\n",
      "Correctly guessed  97.76595744680851 %\n",
      "For test dataset:\n",
      "Correctly guessed  93.75 %\n",
      "########## epoch13 ##########\n",
      "For train dataset:\n",
      "Correctly guessed  96.80851063829788 %\n",
      "For test dataset:\n",
      "Correctly guessed  93.125 %\n",
      "########## epoch14 ##########\n",
      "For train dataset:\n",
      "Correctly guessed  97.87234042553192 %\n",
      "For test dataset:\n",
      "Correctly guessed  93.75 %\n",
      "########## epoch15 ##########\n",
      "For train dataset:\n",
      "Correctly guessed  97.5531914893617 %\n",
      "For test dataset:\n",
      "Correctly guessed  91.875 %\n",
      "Spent  79.49577903747559  seconds training for  15  epoch(s) on a single core.\n",
      "########## Training Accuracy: ##########\n",
      "Correctly guessed  97.5531914893617 %\n"
     ]
    },
    {
     "data": {
      "text/plain": [
       "97.5531914893617"
      ]
     },
     "execution_count": 41,
     "metadata": {},
     "output_type": "execute_result"
    }
   ],
   "source": [
    "net = alexnet(num_classes=3, fc_parameter=4096)\n",
    "net = net.to(device)#to GPU\n",
    "\n",
    "train_model(net, train_loader, 15)#9216,9216,4096,2048, 2;15epoch\n",
    "print(\"########## Training Accuracy: ##########\")\n",
    "eval_network(net, train_loader)"
   ]
  },
  {
   "cell_type": "code",
   "execution_count": 48,
   "id": "db8f12f7",
   "metadata": {},
   "outputs": [
    {
     "name": "stdout",
     "output_type": "stream",
     "text": [
      "########## epoch1 ##########\n",
      "For train dataset:\n",
      "Correctly guessed  92.76595744680851 %\n",
      "For test dataset:\n",
      "Correctly guessed  92.5 %\n",
      "########## epoch2 ##########\n",
      "For train dataset:\n",
      "Correctly guessed  90.0 %\n",
      "For test dataset:\n",
      "Correctly guessed  87.5 %\n",
      "########## epoch3 ##########\n",
      "For train dataset:\n",
      "Correctly guessed  94.68085106382979 %\n",
      "For test dataset:\n",
      "Correctly guessed  91.25 %\n",
      "########## epoch4 ##########\n",
      "For train dataset:\n",
      "Correctly guessed  95.74468085106383 %\n",
      "For test dataset:\n",
      "Correctly guessed  92.5 %\n",
      "########## epoch5 ##########\n",
      "For train dataset:\n",
      "Correctly guessed  95.85106382978724 %\n",
      "For test dataset:\n",
      "Correctly guessed  93.75 %\n",
      "########## epoch6 ##########\n",
      "For train dataset:\n",
      "Correctly guessed  95.85106382978724 %\n",
      "For test dataset:\n",
      "Correctly guessed  91.875 %\n",
      "########## epoch7 ##########\n",
      "For train dataset:\n",
      "Correctly guessed  96.80851063829788 %\n",
      "For test dataset:\n",
      "Correctly guessed  93.125 %\n",
      "########## epoch8 ##########\n",
      "For train dataset:\n",
      "Correctly guessed  96.48936170212767 %\n",
      "For test dataset:\n",
      "Correctly guessed  93.125 %\n",
      "########## epoch9 ##########\n",
      "For train dataset:\n",
      "Correctly guessed  95.85106382978724 %\n",
      "For test dataset:\n",
      "Correctly guessed  93.125 %\n",
      "########## epoch10 ##########\n",
      "For train dataset:\n",
      "Correctly guessed  97.23404255319149 %\n",
      "For test dataset:\n",
      "Correctly guessed  93.125 %\n",
      "########## epoch11 ##########\n",
      "For train dataset:\n",
      "Correctly guessed  97.12765957446808 %\n",
      "For test dataset:\n",
      "Correctly guessed  93.125 %\n",
      "########## epoch12 ##########\n",
      "For train dataset:\n",
      "Correctly guessed  97.76595744680851 %\n",
      "For test dataset:\n",
      "Correctly guessed  93.125 %\n",
      "########## epoch13 ##########\n",
      "For train dataset:\n",
      "Correctly guessed  97.44680851063829 %\n",
      "For test dataset:\n",
      "Correctly guessed  93.125 %\n",
      "########## epoch14 ##########\n",
      "For train dataset:\n",
      "Correctly guessed  96.80851063829788 %\n",
      "For test dataset:\n",
      "Correctly guessed  92.5 %\n",
      "########## epoch15 ##########\n",
      "For train dataset:\n",
      "Correctly guessed  97.65957446808511 %\n",
      "For test dataset:\n",
      "Correctly guessed  93.125 %\n",
      "Spent  63.61643385887146  seconds training for  15  epoch(s) on a single core.\n",
      "########## Training Accuracy: ##########\n",
      "Correctly guessed  97.65957446808511 %\n"
     ]
    },
    {
     "data": {
      "text/plain": [
       "97.65957446808511"
      ]
     },
     "execution_count": 48,
     "metadata": {},
     "output_type": "execute_result"
    }
   ],
   "source": [
    "net = alexnet(num_classes=3, fc_parameter=3072)\n",
    "net = net.to(device)#to GPU\n",
    "\n",
    "train_model(net, train_loader, 15)#9216,9216,4096,2048, 2;15epoch\n",
    "print(\"########## Training Accuracy: ##########\")\n",
    "eval_network(net, train_loader)"
   ]
  },
  {
   "cell_type": "markdown",
   "id": "eec486a9",
   "metadata": {},
   "source": [
    "### 40% Training Data"
   ]
  },
  {
   "cell_type": "code",
   "execution_count": 79,
   "id": "e80ca072",
   "metadata": {},
   "outputs": [],
   "source": [
    "indices = torch.randperm(len(train_dataset))[:370]#10% training data\n",
    "train_dataset_40 = torch.utils.data.Subset(train_dataset, indices)\n",
    "train_sampler_40 = torch.utils.data.RandomSampler(train_dataset_40)"
   ]
  },
  {
   "cell_type": "code",
   "execution_count": 80,
   "id": "b14ef2f4",
   "metadata": {},
   "outputs": [],
   "source": [
    "batch_size = 20\n",
    "\n",
    "train_loader_40 = torch.utils.data.DataLoader(\n",
    "    train_dataset_40,\n",
    "    batch_size=batch_size,\n",
    "    sampler=train_sampler_40)"
   ]
  },
  {
   "cell_type": "code",
   "execution_count": 55,
   "id": "8c555113",
   "metadata": {},
   "outputs": [
    {
     "name": "stdout",
     "output_type": "stream",
     "text": [
      "########## epoch1 ##########\n",
      "For train dataset:\n",
      "Correctly guessed  89.25531914893618 %\n",
      "For test dataset:\n",
      "Correctly guessed  88.75 %\n",
      "########## epoch2 ##########\n",
      "For train dataset:\n",
      "Correctly guessed  93.93617021276596 %\n",
      "For test dataset:\n",
      "Correctly guessed  92.5 %\n",
      "########## epoch3 ##########\n",
      "For train dataset:\n",
      "Correctly guessed  94.57446808510637 %\n",
      "For test dataset:\n",
      "Correctly guessed  90.0 %\n",
      "########## epoch4 ##########\n",
      "For train dataset:\n",
      "Correctly guessed  94.36170212765957 %\n",
      "For test dataset:\n",
      "Correctly guessed  92.5 %\n",
      "########## epoch5 ##########\n",
      "For train dataset:\n",
      "Correctly guessed  96.27659574468085 %\n",
      "For test dataset:\n",
      "Correctly guessed  93.125 %\n",
      "########## epoch6 ##########\n",
      "For train dataset:\n",
      "Correctly guessed  96.80851063829788 %\n",
      "For test dataset:\n",
      "Correctly guessed  93.125 %\n",
      "########## epoch7 ##########\n",
      "For train dataset:\n",
      "Correctly guessed  96.48936170212767 %\n",
      "For test dataset:\n",
      "Correctly guessed  93.125 %\n",
      "########## epoch8 ##########\n",
      "For train dataset:\n",
      "Correctly guessed  96.70212765957447 %\n",
      "For test dataset:\n",
      "Correctly guessed  93.75 %\n",
      "########## epoch9 ##########\n",
      "For train dataset:\n",
      "Correctly guessed  96.91489361702128 %\n",
      "For test dataset:\n",
      "Correctly guessed  93.75 %\n",
      "########## epoch10 ##########\n",
      "For train dataset:\n",
      "Correctly guessed  97.02127659574468 %\n",
      "For test dataset:\n",
      "Correctly guessed  93.125 %\n",
      "########## epoch11 ##########\n",
      "For train dataset:\n",
      "Correctly guessed  97.44680851063829 %\n",
      "For test dataset:\n",
      "Correctly guessed  93.75 %\n",
      "########## epoch12 ##########\n",
      "For train dataset:\n",
      "Correctly guessed  97.65957446808511 %\n",
      "For test dataset:\n",
      "Correctly guessed  93.125 %\n",
      "########## epoch13 ##########\n",
      "For train dataset:\n",
      "Correctly guessed  97.87234042553192 %\n",
      "For test dataset:\n",
      "Correctly guessed  93.75 %\n",
      "Spent  68.82338953018188  seconds training for  13  epoch(s) on a single core.\n",
      "########## Training Accuracy: ##########\n",
      "Correctly guessed  97.87234042553192 %\n"
     ]
    },
    {
     "data": {
      "text/plain": [
       "97.87234042553192"
      ]
     },
     "execution_count": 55,
     "metadata": {},
     "output_type": "execute_result"
    }
   ],
   "source": [
    "net = alexnet(num_classes=3, fc_parameter=4096)\n",
    "net = net.to(device)#to GPU\n",
    "\n",
    "train_model(net, train_loader, 13)#9216,9216,4096,2048, 2;15epoch\n",
    "print(\"########## Training Accuracy: ##########\")\n",
    "eval_network(net, train_loader)"
   ]
  },
  {
   "cell_type": "code",
   "execution_count": 56,
   "id": "c3f7829b",
   "metadata": {},
   "outputs": [
    {
     "name": "stdout",
     "output_type": "stream",
     "text": [
      "########## epoch1 ##########\n",
      "For train dataset:\n",
      "Correctly guessed  89.46808510638297 %\n",
      "For test dataset:\n",
      "Correctly guessed  91.875 %\n",
      "########## epoch2 ##########\n",
      "For train dataset:\n",
      "Correctly guessed  94.14893617021278 %\n",
      "For test dataset:\n",
      "Correctly guessed  93.75 %\n",
      "########## epoch3 ##########\n",
      "For train dataset:\n",
      "Correctly guessed  93.72340425531915 %\n",
      "For test dataset:\n",
      "Correctly guessed  90.0 %\n",
      "########## epoch4 ##########\n",
      "For train dataset:\n",
      "Correctly guessed  95.2127659574468 %\n",
      "For test dataset:\n",
      "Correctly guessed  93.125 %\n",
      "########## epoch5 ##########\n",
      "For train dataset:\n",
      "Correctly guessed  94.8936170212766 %\n",
      "For test dataset:\n",
      "Correctly guessed  91.25 %\n",
      "########## epoch6 ##########\n",
      "For train dataset:\n",
      "Correctly guessed  96.48936170212767 %\n",
      "For test dataset:\n",
      "Correctly guessed  93.125 %\n",
      "########## epoch7 ##########\n",
      "For train dataset:\n",
      "Correctly guessed  96.48936170212767 %\n",
      "For test dataset:\n",
      "Correctly guessed  93.75 %\n",
      "########## epoch8 ##########\n",
      "For train dataset:\n",
      "Correctly guessed  96.91489361702128 %\n",
      "For test dataset:\n",
      "Correctly guessed  91.875 %\n",
      "########## epoch9 ##########\n",
      "For train dataset:\n",
      "Correctly guessed  96.06382978723404 %\n",
      "For test dataset:\n",
      "Correctly guessed  90.625 %\n",
      "########## epoch10 ##########\n",
      "For train dataset:\n",
      "Correctly guessed  97.12765957446808 %\n",
      "For test dataset:\n",
      "Correctly guessed  93.75 %\n",
      "########## epoch11 ##########\n",
      "For train dataset:\n",
      "Correctly guessed  96.80851063829788 %\n",
      "For test dataset:\n",
      "Correctly guessed  93.75 %\n",
      "########## epoch12 ##########\n",
      "For train dataset:\n",
      "Correctly guessed  97.23404255319149 %\n",
      "For test dataset:\n",
      "Correctly guessed  93.75 %\n",
      "########## epoch13 ##########\n",
      "For train dataset:\n",
      "Correctly guessed  97.65957446808511 %\n",
      "For test dataset:\n",
      "Correctly guessed  93.125 %\n",
      "Spent  54.677621603012085  seconds training for  13  epoch(s) on a single core.\n",
      "########## Training Accuracy: ##########\n",
      "Correctly guessed  97.65957446808511 %\n"
     ]
    },
    {
     "data": {
      "text/plain": [
       "97.65957446808511"
      ]
     },
     "execution_count": 56,
     "metadata": {},
     "output_type": "execute_result"
    }
   ],
   "source": [
    "net = alexnet(num_classes=3, fc_parameter=3072)\n",
    "net = net.to(device)#to GPU\n",
    "\n",
    "train_model(net, train_loader, 13)#9216,9216,4096,2048, 2;15epoch\n",
    "print(\"########## Training Accuracy: ##########\")\n",
    "eval_network(net, train_loader)"
   ]
  },
  {
   "cell_type": "code",
   "execution_count": 81,
   "id": "203004e1",
   "metadata": {},
   "outputs": [
    {
     "name": "stdout",
     "output_type": "stream",
     "text": [
      "########## epoch1 ##########\n",
      "For train dataset:\n",
      "Correctly guessed  92.12765957446808 %\n",
      "For test dataset:\n",
      "Correctly guessed  91.25 %\n",
      "########## epoch2 ##########\n",
      "For train dataset:\n",
      "Correctly guessed  93.72340425531915 %\n",
      "For test dataset:\n",
      "Correctly guessed  91.875 %\n",
      "########## epoch3 ##########\n",
      "For train dataset:\n",
      "Correctly guessed  95.0 %\n",
      "For test dataset:\n",
      "Correctly guessed  92.5 %\n",
      "########## epoch4 ##########\n",
      "For train dataset:\n",
      "Correctly guessed  95.63829787234043 %\n",
      "For test dataset:\n",
      "Correctly guessed  93.125 %\n",
      "########## epoch5 ##########\n",
      "For train dataset:\n",
      "Correctly guessed  95.2127659574468 %\n",
      "For test dataset:\n",
      "Correctly guessed  92.5 %\n",
      "########## epoch6 ##########\n",
      "For train dataset:\n",
      "Correctly guessed  93.08510638297872 %\n",
      "For test dataset:\n",
      "Correctly guessed  90.625 %\n",
      "########## epoch7 ##########\n",
      "For train dataset:\n",
      "Correctly guessed  96.48936170212767 %\n",
      "For test dataset:\n",
      "Correctly guessed  93.125 %\n",
      "########## epoch8 ##########\n",
      "For train dataset:\n",
      "Correctly guessed  96.59574468085106 %\n",
      "For test dataset:\n",
      "Correctly guessed  92.5 %\n",
      "########## epoch9 ##########\n",
      "For train dataset:\n",
      "Correctly guessed  96.70212765957447 %\n",
      "For test dataset:\n",
      "Correctly guessed  92.5 %\n",
      "########## epoch10 ##########\n",
      "For train dataset:\n",
      "Correctly guessed  97.23404255319149 %\n",
      "For test dataset:\n",
      "Correctly guessed  93.75 %\n",
      "########## epoch11 ##########\n",
      "For train dataset:\n",
      "Correctly guessed  97.12765957446808 %\n",
      "For test dataset:\n",
      "Correctly guessed  93.75 %\n",
      "########## epoch12 ##########\n",
      "For train dataset:\n",
      "Correctly guessed  97.44680851063829 %\n",
      "For test dataset:\n",
      "Correctly guessed  93.125 %\n",
      "########## epoch13 ##########\n",
      "For train dataset:\n",
      "Correctly guessed  97.76595744680851 %\n",
      "For test dataset:\n",
      "Correctly guessed  93.125 %\n",
      "Spent  61.19435787200928  seconds training for  13  epoch(s) on a single core.\n",
      "########## Training Accuracy: ##########\n",
      "Correctly guessed  97.76595744680851 %\n"
     ]
    },
    {
     "data": {
      "text/plain": [
       "97.76595744680851"
      ]
     },
     "execution_count": 81,
     "metadata": {},
     "output_type": "execute_result"
    }
   ],
   "source": [
    "net = alexnet(num_classes=3, fc_parameter=3584)\n",
    "net = net.to(device)#to GPU\n",
    "\n",
    "train_model(net, train_loader, 13)#9216,9216,4096,2048, 2;15epoch\n",
    "print(\"########## Training Accuracy: ##########\")\n",
    "eval_network(net, train_loader)"
   ]
  },
  {
   "cell_type": "markdown",
   "id": "2a70405e",
   "metadata": {},
   "source": [
    "### 80% Training Data"
   ]
  },
  {
   "cell_type": "code",
   "execution_count": 66,
   "id": "70604ecb",
   "metadata": {},
   "outputs": [],
   "source": [
    "indices = torch.randperm(len(train_dataset))[:740]#10% training data\n",
    "train_dataset_80 = torch.utils.data.Subset(train_dataset, indices)\n",
    "train_sampler_80 = torch.utils.data.RandomSampler(train_dataset_80)"
   ]
  },
  {
   "cell_type": "code",
   "execution_count": 67,
   "id": "4c3ecf52",
   "metadata": {},
   "outputs": [],
   "source": [
    "batch_size = 20\n",
    "\n",
    "train_loader_80 = torch.utils.data.DataLoader(\n",
    "    train_dataset_80,\n",
    "    batch_size=batch_size,\n",
    "    sampler=train_sampler_80)"
   ]
  },
  {
   "cell_type": "code",
   "execution_count": 59,
   "id": "4e39d88d",
   "metadata": {},
   "outputs": [
    {
     "name": "stdout",
     "output_type": "stream",
     "text": [
      "########## epoch1 ##########\n",
      "For train dataset:\n",
      "Correctly guessed  92.87234042553192 %\n",
      "For test dataset:\n",
      "Correctly guessed  93.125 %\n",
      "########## epoch2 ##########\n",
      "For train dataset:\n",
      "Correctly guessed  94.68085106382979 %\n",
      "For test dataset:\n",
      "Correctly guessed  92.5 %\n",
      "########## epoch3 ##########\n",
      "For train dataset:\n",
      "Correctly guessed  94.04255319148936 %\n",
      "For test dataset:\n",
      "Correctly guessed  92.5 %\n",
      "########## epoch4 ##########\n",
      "For train dataset:\n",
      "Correctly guessed  95.95744680851064 %\n",
      "For test dataset:\n",
      "Correctly guessed  91.25 %\n",
      "########## epoch5 ##########\n",
      "For train dataset:\n",
      "Correctly guessed  95.95744680851064 %\n",
      "For test dataset:\n",
      "Correctly guessed  93.125 %\n",
      "########## epoch6 ##########\n",
      "For train dataset:\n",
      "Correctly guessed  95.74468085106383 %\n",
      "For test dataset:\n",
      "Correctly guessed  91.875 %\n",
      "########## epoch7 ##########\n",
      "For train dataset:\n",
      "Correctly guessed  96.38297872340425 %\n",
      "For test dataset:\n",
      "Correctly guessed  93.75 %\n",
      "########## epoch8 ##########\n",
      "For train dataset:\n",
      "Correctly guessed  96.70212765957447 %\n",
      "For test dataset:\n",
      "Correctly guessed  93.125 %\n",
      "########## epoch9 ##########\n",
      "For train dataset:\n",
      "Correctly guessed  97.65957446808511 %\n",
      "For test dataset:\n",
      "Correctly guessed  93.75 %\n",
      "########## epoch10 ##########\n",
      "For train dataset:\n",
      "Correctly guessed  97.65957446808511 %\n",
      "For test dataset:\n",
      "Correctly guessed  93.75 %\n",
      "########## epoch11 ##########\n",
      "For train dataset:\n",
      "Correctly guessed  96.48936170212767 %\n",
      "For test dataset:\n",
      "Correctly guessed  93.125 %\n",
      "########## epoch12 ##########\n",
      "For train dataset:\n",
      "Correctly guessed  97.87234042553192 %\n",
      "For test dataset:\n",
      "Correctly guessed  94.375 %\n",
      "########## epoch13 ##########\n",
      "For train dataset:\n",
      "Correctly guessed  97.65957446808511 %\n",
      "For test dataset:\n",
      "Correctly guessed  93.75 %\n",
      "Spent  68.39564061164856  seconds training for  13  epoch(s) on a single core.\n",
      "########## Training Accuracy: ##########\n",
      "Correctly guessed  97.65957446808511 %\n"
     ]
    },
    {
     "data": {
      "text/plain": [
       "97.65957446808511"
      ]
     },
     "execution_count": 59,
     "metadata": {},
     "output_type": "execute_result"
    }
   ],
   "source": [
    "net = alexnet(num_classes=3, fc_parameter=4096)\n",
    "net = net.to(device)#to GPU\n",
    "\n",
    "train_model(net, train_loader, 13)#9216,9216,4096,2048, 2;15epoch\n",
    "print(\"########## Training Accuracy: ##########\")\n",
    "eval_network(net, train_loader)"
   ]
  },
  {
   "cell_type": "code",
   "execution_count": 68,
   "id": "492c6d34",
   "metadata": {},
   "outputs": [
    {
     "name": "stdout",
     "output_type": "stream",
     "text": [
      "########## epoch1 ##########\n",
      "For train dataset:\n",
      "Correctly guessed  90.1063829787234 %\n",
      "For test dataset:\n",
      "Correctly guessed  92.5 %\n",
      "########## epoch2 ##########\n",
      "For train dataset:\n",
      "Correctly guessed  94.04255319148936 %\n",
      "For test dataset:\n",
      "Correctly guessed  93.125 %\n",
      "########## epoch3 ##########\n",
      "For train dataset:\n",
      "Correctly guessed  94.36170212765957 %\n",
      "For test dataset:\n",
      "Correctly guessed  93.125 %\n",
      "########## epoch4 ##########\n",
      "For train dataset:\n",
      "Correctly guessed  95.74468085106383 %\n",
      "For test dataset:\n",
      "Correctly guessed  93.125 %\n",
      "########## epoch5 ##########\n",
      "For train dataset:\n",
      "Correctly guessed  93.82978723404256 %\n",
      "For test dataset:\n",
      "Correctly guessed  92.5 %\n",
      "########## epoch6 ##########\n",
      "For train dataset:\n",
      "Correctly guessed  96.17021276595744 %\n",
      "For test dataset:\n",
      "Correctly guessed  93.75 %\n",
      "########## epoch7 ##########\n",
      "For train dataset:\n",
      "Correctly guessed  96.70212765957447 %\n",
      "For test dataset:\n",
      "Correctly guessed  93.75 %\n",
      "########## epoch8 ##########\n",
      "For train dataset:\n",
      "Correctly guessed  96.48936170212767 %\n",
      "For test dataset:\n",
      "Correctly guessed  93.75 %\n",
      "########## epoch9 ##########\n",
      "For train dataset:\n",
      "Correctly guessed  97.02127659574468 %\n",
      "For test dataset:\n",
      "Correctly guessed  93.125 %\n",
      "########## epoch10 ##########\n",
      "For train dataset:\n",
      "Correctly guessed  95.95744680851064 %\n",
      "For test dataset:\n",
      "Correctly guessed  92.5 %\n",
      "########## epoch11 ##########\n",
      "For train dataset:\n",
      "Correctly guessed  96.91489361702128 %\n",
      "For test dataset:\n",
      "Correctly guessed  93.75 %\n",
      "########## epoch12 ##########\n",
      "For train dataset:\n",
      "Correctly guessed  96.80851063829788 %\n",
      "For test dataset:\n",
      "Correctly guessed  94.375 %\n",
      "########## epoch13 ##########\n",
      "For train dataset:\n",
      "Correctly guessed  97.23404255319149 %\n",
      "For test dataset:\n",
      "Correctly guessed  93.75 %\n",
      "Spent  54.531861543655396  seconds training for  13  epoch(s) on a single core.\n",
      "########## Training Accuracy: ##########\n",
      "Correctly guessed  97.23404255319149 %\n"
     ]
    },
    {
     "data": {
      "text/plain": [
       "97.23404255319149"
      ]
     },
     "execution_count": 68,
     "metadata": {},
     "output_type": "execute_result"
    }
   ],
   "source": [
    "net = alexnet(num_classes=3, fc_parameter=3072)\n",
    "net = net.to(device)#to GPU\n",
    "\n",
    "train_model(net, train_loader, 13)#9216,9216,4096,2048, 2;15epoch\n",
    "print(\"########## Training Accuracy: ##########\")\n",
    "eval_network(net, train_loader)"
   ]
  },
  {
   "cell_type": "markdown",
   "id": "33ffa973",
   "metadata": {},
   "source": [
    "### 100%Training Data"
   ]
  },
  {
   "cell_type": "code",
   "execution_count": 89,
   "id": "9dea6450",
   "metadata": {},
   "outputs": [],
   "source": [
    "batch_size = 20\n",
    "\n",
    "train_loader = torch.utils.data.DataLoader(\n",
    "    train_dataset,\n",
    "    batch_size=batch_size,\n",
    "    sampler=train_sampler)"
   ]
  },
  {
   "cell_type": "code",
   "execution_count": 93,
   "id": "5a26c8fa",
   "metadata": {},
   "outputs": [
    {
     "name": "stdout",
     "output_type": "stream",
     "text": [
      "########## epoch1 ##########\n",
      "For train dataset:\n",
      "Correctly guessed  89.57446808510639 %\n",
      "For test dataset:\n",
      "Correctly guessed  92.5 %\n",
      "########## epoch2 ##########\n",
      "For train dataset:\n",
      "Correctly guessed  94.68085106382979 %\n",
      "For test dataset:\n",
      "Correctly guessed  90.625 %\n",
      "########## epoch3 ##########\n",
      "For train dataset:\n",
      "Correctly guessed  93.72340425531915 %\n",
      "For test dataset:\n",
      "Correctly guessed  92.5 %\n",
      "########## epoch4 ##########\n",
      "For train dataset:\n",
      "Correctly guessed  95.1063829787234 %\n",
      "For test dataset:\n",
      "Correctly guessed  93.125 %\n",
      "########## epoch5 ##########\n",
      "For train dataset:\n",
      "Correctly guessed  96.17021276595744 %\n",
      "For test dataset:\n",
      "Correctly guessed  93.125 %\n",
      "########## epoch6 ##########\n",
      "For train dataset:\n",
      "Correctly guessed  95.53191489361701 %\n",
      "For test dataset:\n",
      "Correctly guessed  92.5 %\n",
      "########## epoch7 ##########\n",
      "For train dataset:\n",
      "Correctly guessed  96.48936170212767 %\n",
      "For test dataset:\n",
      "Correctly guessed  93.125 %\n",
      "########## epoch8 ##########\n",
      "For train dataset:\n",
      "Correctly guessed  96.80851063829788 %\n",
      "For test dataset:\n",
      "Correctly guessed  93.125 %\n",
      "########## epoch9 ##########\n",
      "For train dataset:\n",
      "Correctly guessed  97.02127659574468 %\n",
      "For test dataset:\n",
      "Correctly guessed  93.125 %\n",
      "########## epoch10 ##########\n",
      "For train dataset:\n",
      "Correctly guessed  97.12765957446808 %\n",
      "For test dataset:\n",
      "Correctly guessed  93.75 %\n",
      "########## epoch11 ##########\n",
      "For train dataset:\n",
      "Correctly guessed  97.44680851063829 %\n",
      "For test dataset:\n",
      "Correctly guessed  93.125 %\n",
      "########## epoch12 ##########\n",
      "For train dataset:\n",
      "Correctly guessed  97.65957446808511 %\n",
      "For test dataset:\n",
      "Correctly guessed  93.75 %\n",
      "########## epoch13 ##########\n",
      "For train dataset:\n",
      "Correctly guessed  97.23404255319149 %\n",
      "For test dataset:\n",
      "Correctly guessed  93.75 %\n",
      "Spent  69.09113645553589  seconds training for  13  epoch(s) on a single core.\n",
      "########## Training Accuracy: ##########\n",
      "Correctly guessed  97.23404255319149 %\n"
     ]
    },
    {
     "data": {
      "text/plain": [
       "97.23404255319149"
      ]
     },
     "execution_count": 93,
     "metadata": {},
     "output_type": "execute_result"
    }
   ],
   "source": [
    "net = alexnet(num_classes=3, fc_parameter=4096)\n",
    "net = net.to(device)#to GPU\n",
    "\n",
    "train_model(net, train_loader, 13)#9216,9216,4096,2048, 2;15epoch\n",
    "print(\"########## Training Accuracy: ##########\")\n",
    "eval_network(net, train_loader)"
   ]
  },
  {
   "cell_type": "markdown",
   "id": "faf329a2",
   "metadata": {},
   "source": [
    "### Plot"
   ]
  },
  {
   "cell_type": "code",
   "execution_count": 66,
   "id": "5be9a17e",
   "metadata": {},
   "outputs": [],
   "source": [
    "pro_dataset = [0, 10, 20, 40, 80, 100]"
   ]
  },
  {
   "cell_type": "code",
   "execution_count": 67,
   "id": "416969c1",
   "metadata": {},
   "outputs": [],
   "source": [
    "mec_list = []\n",
    "fc_parameter_list = [0, 2560, 3072, 3584, 4096, 4096]\n",
    "\n",
    "for fc_parameter in fc_parameter_list:\n",
    "#     net = alexnet(num_classes=3, fc_parameter=fc_parameter)\n",
    "#     net = net.to(device)#to GPU\n",
    "\n",
    "#     train_model(net, train_loader, 10)\n",
    "    \n",
    "    mec = 32451 * fc_parameter\n",
    "    mec_list.append(mec)"
   ]
  },
  {
   "cell_type": "code",
   "execution_count": 68,
   "id": "5ad531c8",
   "metadata": {},
   "outputs": [
    {
     "data": {
      "image/png": "[encoded data removed]",
      "text/plain": [
       "<Figure size 432x288 with 1 Axes>"
      ]
     },
     "metadata": {
      "needs_background": "light"
     },
     "output_type": "display_data"
    }
   ],
   "source": [
    "import matplotlib.pyplot as plt\n",
    "plt.ylim(0, 2e8)\n",
    "\n",
    "plt.plot(pro_dataset, mec_list, label = \"Rule Found\")\n",
    "\n",
    "plt.xlabel(\"%Training Data\")\n",
    "plt.ylabel(\"MEC(Overfitting)\")\n",
    "plt.title(\"%Training Data vs. MEC(Overfitting)\");##At leaset 97.76%\n",
    "plt.legend();"
   ]
  }
 ],
 "metadata": {
  "kernelspec": {
   "display_name": "Python 3 (ipykernel)",
   "language": "python",
   "name": "python3"
  },
  "language_info": {
   "codemirror_mode": {
    "name": "ipython",
    "version": 3
   },
   "file_extension": ".py",
   "mimetype": "text/x-python",
   "name": "python",
   "nbconvert_exporter": "python",
   "pygments_lexer": "ipython3",
   "version": "3.7.11"
  }
 },
 "nbformat": 4,
 "nbformat_minor": 5
}
